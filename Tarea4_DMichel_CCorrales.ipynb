{
 "cells": [
  {
   "cell_type": "markdown",
   "metadata": {},
   "source": [
    "<img style=\"float: left; margin: 30px 15px 15px 15px;\" src=\"https://pngimage.net/wp-content/uploads/2018/06/logo-iteso-png-5.png\" width=\"300\" height=\"500\" /> \n",
    "    \n",
    "    \n",
    "### <font color='navy'> Simulación de procesos financieros. \n",
    "\n",
    "**Nombres:** Cuauhtémoc Corrales Camacho y Daniela Michel Mercado.\n",
    "\n",
    "**Fecha:** 16 de septiembre del 2021.\n",
    "\n",
    "**Expediente** : 724506 y 720482.\n",
    "**Profesor:** Oscar David Jaramillo Zuluaga.\n",
    "    \n",
    "**Link Github**: https://github.com/danielamichel/Tarea3_4_DMichel_CCorrales\n",
    "\n",
    "# Tarea 4, Clase 7"
   ]
  },
  {
   "cell_type": "markdown",
   "metadata": {},
   "source": [
    "## Ejercicio 1\n",
    ">Como ejemplo simple de una simulación de Monte Carlo, considere calcular la probabilidad de una suma particular del lanzamiento de tres dados (cada dado tiene valores del uno al seis). Además cada dado tiene las siguientes carácterísticas: el primer dado no está cargado (distribución uniforme todos son equiprobables); el segundo y tercer dado están cargados basados en una distribución binomial con parámetros (`n=5, p=0.5` y `n=5, p=0.2`). Calcule la probabilidad de que la suma resultante sea 7, 14 o 18. "
   ]
  },
  {
   "cell_type": "code",
   "execution_count": 1,
   "metadata": {},
   "outputs": [],
   "source": [
    "# Paqueterias\n",
    "import numpy as np\n",
    "import pandas as pd\n",
    "import matplotlib.pyplot as plt\n",
    "import scipy.stats as st"
   ]
  },
  {
   "cell_type": "code",
   "execution_count": 9,
   "metadata": {},
   "outputs": [
    {
     "data": {
      "image/png": "[encoded data removed]",
      "text/plain": [
       "<Figure size 1080x360 with 1 Axes>"
      ]
     },
     "metadata": {
      "needs_background": "light"
     },
     "output_type": "display_data"
    }
   ],
   "source": [
    "# Código de solución estudiante 1: \n",
    "# Definimos una función que arroje como resultado la suma de los tres dados\n",
    "def suma_dados():\n",
    "    return (np.random.randint(1,7,1)) + (st.binom(n=5, p=0.5).rvs(size=1)) + (st.binom(n=5, p=0.2).rvs(size=1))\n",
    "\n",
    "# Simulamos 100000 posibles escenarios\n",
    "# Iteramos y guardamos nuestros resultamos en una lista de resultados\n",
    "N = 100000\n",
    "res = [suma_dados() for i in range(N)]\n",
    "\n",
    "# Graficamos un histograma para visualizar mejor nuestras probabilidades\n",
    "y, x = np.histogram(res, bins=16, density=True)\n",
    "plt.figure(figsize=[15,5])\n",
    "plt.bar(range(3,19), y, color='purple')\n",
    "plt.xlabel(\"Suma\")\n",
    "plt.ylabel(\"Probabilidad\")\n",
    "plt.title(\"Probabilidades asociadas a cada resultado\");"
   ]
  },
  {
   "cell_type": "code",
   "execution_count": 7,
   "metadata": {},
   "outputs": [
    {
     "name": "stdout",
     "output_type": "stream",
     "text": [
      "Probabilidad de que la suma sea 7: 0.14529142857142857\n",
      "Probabilidad de que la suma sea 14: 0.04484571428571429\n",
      "Probabilidad de que la suma sea 18: 4.571428571428571e-05\n"
     ]
    }
   ],
   "source": [
    "# Finalmente describimos las probabilidades para que la suma sea igual a 7, 14 y 18\n",
    "print(f'Probabilidad de que la suma sea 7: {y[4]}')\n",
    "print(f'Probabilidad de que la suma sea 14: {y[11]}')\n",
    "print(f'Probabilidad de que la suma sea 18: {y[15]}')"
   ]
  },
  {
   "cell_type": "code",
   "execution_count": 12,
   "metadata": {},
   "outputs": [
    {
     "data": {
      "image/png": "[encoded data removed]",
      "text/plain": [
       "<Figure size 720x360 with 1 Axes>"
      ]
     },
     "metadata": {
      "needs_background": "light"
     },
     "output_type": "display_data"
    }
   ],
   "source": [
    "# Código de solución estudiante 2\n",
    "def lanzamiento():\n",
    "    d1 = np.random.randint(1,7,1)\n",
    "    d2 = st.binom(n=5, p=0.5).rvs(size=1)\n",
    "    d3 = st.binom(n=5, p=0.2).rvs(size=1)\n",
    "    return d1+d2+d3\n",
    "\n",
    "N = 10**4\n",
    "resultado = [lanzamiento() for i in range(N)]\n",
    "\n",
    "y, x = np.histogram(resultado, bins=16, density=True)\n",
    "plt.figure(figsize=[10,5])\n",
    "plt.bar(range(3,19), y, color='blue')\n",
    "plt.xlabel(\"Acumulacion de lanzamientos\")\n",
    "plt.ylabel(\"P\")\n",
    "plt.title(\"Distribuicion de Probabilidad de los lanzamientos\");"
   ]
  },
  {
   "cell_type": "code",
   "execution_count": 14,
   "metadata": {},
   "outputs": [
    {
     "name": "stdout",
     "output_type": "stream",
     "text": [
      "La probabilidad de que la suma de los dados sea 7 es: 14.21 %\n",
      "La probabilidad de que la suma de los dados sea 14 es: 4.24 %\n",
      "La probabilidad de que la suma de los dados sea 18 es: 0.01 %\n"
     ]
    }
   ],
   "source": [
    "P7,P14,P18 = round(y[4],4)*100,round(y[11],4)*100,round(y[15],4)*100\n",
    "print(\"La probabilidad de que la suma de los dados sea 7 es:\",P7,\"%\")\n",
    "print(\"La probabilidad de que la suma de los dados sea 14 es:\",P14,\"%\")\n",
    "print(\"La probabilidad de que la suma de los dados sea 18 es:\",P18,\"%\")"
   ]
  },
  {
   "cell_type": "markdown",
   "metadata": {},
   "source": [
    "# 2 Ejercicio de aplicación- Cafetería Central\n",
    "\n",
    "> Premisas para la simulación:\n",
    "- Negocio de alimentos que vende bebidas y alimentos.\n",
    "- Negocio dentro del ITESO.\n",
    "- Negocio en cafetería central.\n",
    "- Tipo de clientes (hombres y mujeres).\n",
    "- Rentabilidad del 60%.\n",
    "\n",
    "## Objetivo\n",
    "Realizar una simulación estimado el tiempo medio que se tardaran los clientes en ser atendidos entre el horario de 6:30 a 1 pm. Además saber el consumo. \n",
    "**Analizar supuestos y limitantes**"
   ]
  },
  {
   "cell_type": "markdown",
   "metadata": {},
   "source": [
    "## Supuestos en simulación\n",
    "Clasificación de clientes: \n",
    "- Mujer  = 1 $\\longrightarrow$ aleatorio < 0.5\n",
    "- Hombre = 0 $\\longrightarrow$ aleatorio $\\geq$ 0.5.\n",
    "\n",
    "Condiciones iniciales:\n",
    "- Todas las distrubuciones de probabilidad se supondrán uniformes.\n",
    "- Tiempo de simulación: 6:30 am - 1:30pm $\\longrightarrow$ T = 7 horas = 25200 seg.\n",
    "- Tiempo de llegada hasta ser atendido: Min=5seg, Max=30seg.\n",
    "- Tiempo que tardan los clientes en ser atendidos:\n",
    "    - Mujer: Min = 1 min= 60seg, Max = 5 min = 300 seg\n",
    "    - Hombre: Min = 40 seg, Max = 2 min= 120 seg\n",
    "- Consumo según el tipo de cliente:\n",
    "    - Mujer: Min = 30 pesos, Max = 100 pesos\n",
    "    - Hombre: Min = 20 pesos, Max = 80 pesos\n",
    "\n",
    "Responder las siguientes preguntas basados en los datos del problema:\n",
    "1. ¿Cuáles fueron los gastos de los hombres y las mujeres en 5 días de trabajo?.\n",
    "2. ¿Cuál fue el consumo promedio de los hombres y mujeres?\n",
    "3. ¿Cuál fue el número de personas atendidas por día?\n",
    "4. ¿Cuál fue el tiempo de atención promedio?\n",
    "5. ¿Cuánto fue la ganancia promedio de la cafetería en 5 días de trabajo y su respectiva rentabilidad?"
   ]
  },
  {
   "cell_type": "code",
   "execution_count": 15,
   "metadata": {},
   "outputs": [],
   "source": [
    "# DATOS DEL PROBLEMA\n",
    "d = 5\n",
    "T =25200\n",
    "T_at_min = 5; T_at_max = 30\n",
    "T_mujer_min =60; T_mujer_max = 300\n",
    "T_hombre_min = 40; T_hombre_max = 120\n",
    "C_mujer_min = 30; C_mujer_max = 100\n",
    "C_hombre_min = 20; C_hombre_max = 80\n"
   ]
  },
  {
   "cell_type": "code",
   "execution_count": 8,
   "metadata": {},
   "outputs": [
    {
     "data": {
      "text/plain": [
       "(16110.0, 45193.0, 57, 114, 8.0)"
      ]
     },
     "execution_count": 8,
     "metadata": {},
     "output_type": "execute_result"
    }
   ],
   "source": [
    "# Código de solución estudiante 1: \n",
    "d = 5\n",
    "T =25200\n",
    "T_at_min = 5; T_at_max = 30\n",
    "T_mujer_min =60; T_mujer_max = 300\n",
    "T_hombre_min = 40; T_hombre_max = 120\n",
    "C_mujer_min = 30; C_mujer_max = 100\n",
    "C_hombre_min = 20; C_hombre_max = 80\n",
    "\n",
    "# Definimos algunas otras variables a utilizar\n",
    "escenarios = 1\n",
    "t_atencion = np.random.randint(5, 31, escenarios)\n",
    "at_hombres = np.random.randint(40, 121, escenarios)\n",
    "at_mujeres = np.random.randint(60, 300, escenarios)\n",
    "\n",
    "# Comenzamos a iterar tanto sobre los 5 dias (d) como el tiempo que queremos por dia (T)\n",
    "# Variables iniciales\n",
    "dia = 0\n",
    "gasto_total_mujeres = 0\n",
    "gasto_total_hombres = 0\n",
    "\n",
    "# Empezamos a iterar sobre los dias\n",
    "while dia <= d:\n",
    "    \n",
    "    # Variables auxiliares que nos ayudaran a definir valores parciales por cada dia\n",
    "    tiempo = 0\n",
    "    gasto_parcial_mujeres = 0\n",
    "    gasto_parcial_hombres = 0\n",
    "    cantidad_mujeres = 0\n",
    "    cantidad_hombres = 0\n",
    "    atencion = 0\n",
    "    \n",
    "    # Segundo ciclo, iteracion por tiempo\n",
    "    while tiempo <= T:\n",
    "        if np.random.randint(0,2) == 0:\n",
    "            gasto_parcial_mujeres += np.mean(np.random.randint(C_mujer_min, C_mujer_max))\n",
    "            cantidad_mujeres += 1\n",
    "            tiempo += np.mean(t_atencion) + np.mean(at_mujeres)\n",
    "            atencion += np.mean(t_atencion)\n",
    "            \n",
    "        elif np.random.randint(0,2) == 1:\n",
    "            gasto_parcial_hombres += np.mean(np.random.randint(C_hombre_min, C_hombre_max))\n",
    "            cantidad_hombres += 1\n",
    "            tiempo += np.mean(t_atencion) + np.mean(at_hombres)\n",
    "            atencion += np.mean(t_atencion)\n",
    "            \n",
    "    # Almacenamos los gastos totales compuestos de los parciales correspondientes a cada dia\n",
    "    gasto_total_mujeres += gasto_parcial_mujeres\n",
    "    gasto_total_hombres += gasto_parcial_hombres\n",
    "    dia += 1\n",
    "\n",
    "# Variables que nos interesaran para dar respuesta a las preguntas\n",
    "gasto_total_hombres, gasto_total_mujeres, cantidad_hombres, cantidad_mujeres, atencion / (cantidad_hombres+cantidad_mujeres)"
   ]
  },
  {
   "cell_type": "code",
   "execution_count": 10,
   "metadata": {},
   "outputs": [
    {
     "name": "stdout",
     "output_type": "stream",
     "text": [
      "El gasto en 5 días en total es igual a $61303\n",
      "Donde $45193 corresponden a los gastos de las mujeres y \n",
      "      $16110 al de los hombres\n"
     ]
    }
   ],
   "source": [
    "#PREGUNTA 1\n",
    "# ¿Cuáles fueron los gastos de los hombres y las mujeres en 5 días de trabajo?\n",
    "print(f'El gasto en 5 días en total es igual a ${int(gasto_total_hombres + gasto_total_mujeres)}')\n",
    "print(f'''Donde ${int(gasto_total_mujeres)} corresponden a los gastos de las mujeres y \n",
    "      ${int(gasto_total_hombres)} al de los hombres''')"
   ]
  },
  {
   "cell_type": "code",
   "execution_count": 11,
   "metadata": {},
   "outputs": [
    {
     "name": "stdout",
     "output_type": "stream",
     "text": [
      "El gasto promedio de los hombres fue de $47.40350877192982\n",
      "El gasto promedio de las mujeres fue de $64.98245614035088\n"
     ]
    }
   ],
   "source": [
    "# PREGUNTA 2\n",
    "# ¿Cuál fue el consumo promedio de los hombres y mujeres?\n",
    "print(f'El gasto promedio de los hombres fue de ${gasto_parcial_hombres/cantidad_hombres}')\n",
    "print(f'El gasto promedio de las mujeres fue de ${gasto_parcial_mujeres/cantidad_mujeres}')"
   ]
  },
  {
   "cell_type": "code",
   "execution_count": 12,
   "metadata": {},
   "outputs": [
    {
     "name": "stdout",
     "output_type": "stream",
     "text": [
      "La cantidad de personas atendidas por día fue de 171\n"
     ]
    }
   ],
   "source": [
    "#PREGUNTA 3\n",
    "# ¿Cuál fue el número de personas atendidas por día?\n",
    "print(f'La cantidad de personas atendidas por día fue de {cantidad_hombres+cantidad_mujeres}')"
   ]
  },
  {
   "cell_type": "code",
   "execution_count": 13,
   "metadata": {},
   "outputs": [
    {
     "name": "stdout",
     "output_type": "stream",
     "text": [
      "El tiempo de atención promedio fue de 8.0 segundos\n"
     ]
    }
   ],
   "source": [
    "#PREGUNTA 4\n",
    "# ¿Cuál fue el tiempo de atención promedio?\n",
    "print(f'El tiempo de atención promedio fue de {atencion/(cantidad_hombres+cantidad_mujeres)} segundos')"
   ]
  },
  {
   "cell_type": "code",
   "execution_count": 14,
   "metadata": {},
   "outputs": [
    {
     "name": "stdout",
     "output_type": "stream",
     "text": [
      "La ganancia/ingreso promedio en 5 días de la cafeteria fue de $61303\n",
      "La rentabilidad fue de $36781.799999999996\n"
     ]
    }
   ],
   "source": [
    "#PREGUNTA 5\n",
    "# ¿Cuánto fue la ganancia promedio de la cafetería en 5 días de trabajo y su respectiva rentabilidad?\n",
    "print(f'La ganancia/ingreso promedio en 5 días de la cafeteria fue de ${int(gasto_total_hombres + gasto_total_mujeres)}')\n",
    "print(f'La rentabilidad fue de ${int(gasto_total_hombres + gasto_total_mujeres)*0.6}')"
   ]
  },
  {
   "cell_type": "code",
   "execution_count": 17,
   "metadata": {},
   "outputs": [],
   "source": [
    "# Código de solución estudiante 2\n",
    "# Definimos algunas otras variables a utilizar\n",
    "esc = 1\n",
    "t_a = np.random.randint(5, 31, esc)\n",
    "at_M = np.random.randint(40, 121, esc)\n",
    "at_W = np.random.randint(60, 300, esc)\n",
    "dia = 0\n",
    "gasto_M_total = 0\n",
    "gasto_W_total = 0\n",
    "\n",
    "while dia <= d:\n",
    "    \n",
    "    t = 0\n",
    "    gasto_M = 0\n",
    "    gasto_W = 0\n",
    "    cantidad_M = 0\n",
    "    cantidad_W = 0\n",
    "    atencion = 0\n",
    "    \n",
    "    while t <= T:\n",
    "        if np.random.randint(0,2) == 1:\n",
    "            gasto_M += np.mean(np.random.randint(C_hombre_min, C_hombre_max))\n",
    "            cantidad_M += 1\n",
    "            t += np.mean(t_a) + np.mean(at_M)\n",
    "            atencion += np.mean(t_a)\n",
    "            \n",
    "        elif np.random.randint(0,2) == 0:\n",
    "            gasto_W += np.mean(np.random.randint(C_mujer_min, C_mujer_max))\n",
    "            cantidad_W += 1\n",
    "            t += np.mean(t_a) + np.mean(at_W)\n",
    "            atencion += np.mean(t_a)\n",
    "            \n",
    "    gasto_W_total += gasto_W\n",
    "    gasto_M_total += gasto_M\n",
    "    dia += 1\n",
    "  "
   ]
  },
  {
   "cell_type": "markdown",
   "metadata": {},
   "source": [
    "Responder las siguientes preguntas basados en los datos del problema:\n",
    "1. ¿Cuáles fueron los gastos de los hombres y las mujeres en 5 días de trabajo?.\n",
    "2. ¿Cuál fue el consumo promedio de los hombres y mujeres?\n",
    "3. ¿Cuál fue el número de personas atendidas por día?\n",
    "4. ¿Cuál fue el tiempo de atención promedio?\n",
    "5. ¿Cuánto fue la ganancia promedio de la cafetería en 5 días de trabajo y su respectiva rentabilidad?"
   ]
  },
  {
   "cell_type": "code",
   "execution_count": 18,
   "metadata": {},
   "outputs": [
    {
     "name": "stdout",
     "output_type": "stream",
     "text": [
      "Respuesta P1\n",
      "Los hombres gastaron 38464.0 y las mujeres gastaron 24008.0\n"
     ]
    }
   ],
   "source": [
    "print(\"Respuesta P1\")\n",
    "print(\"Los hombres gastaron\",gasto_M_total,\"y las mujeres gastaron\",gasto_W_total)"
   ]
  },
  {
   "cell_type": "code",
   "execution_count": 21,
   "metadata": {},
   "outputs": [
    {
     "name": "stdout",
     "output_type": "stream",
     "text": [
      "Respuesta P2\n",
      "El consumo promedio hombres gastaron 323.23 y el de mujeres fue 347.94\n"
     ]
    }
   ],
   "source": [
    "print(\"Respuesta P2\")\n",
    "consumo_M = round(gasto_M_total/cantidad_M,2)\n",
    "consumo_W = round(gasto_W_total/cantidad_W,2)\n",
    "print(\"El consumo promedio hombres gastaron\",consumo_M,\"y el de mujeres fue\",consumo_W)"
   ]
  },
  {
   "cell_type": "code",
   "execution_count": 22,
   "metadata": {},
   "outputs": [
    {
     "name": "stdout",
     "output_type": "stream",
     "text": [
      "Respuesta P3\n",
      "El total de personas atendidas fue: 188\n"
     ]
    }
   ],
   "source": [
    "print(\"Respuesta P3\")\n",
    "cantidad_total = cantidad_M+cantidad_W\n",
    "print(\"El total de personas atendidas fue:\",cantidad_total)"
   ]
  },
  {
   "cell_type": "code",
   "execution_count": 27,
   "metadata": {},
   "outputs": [
    {
     "name": "stdout",
     "output_type": "stream",
     "text": [
      "Respuesta P4\n",
      "El tiempo de atencion promedio fue: 29.0 segundos\n"
     ]
    }
   ],
   "source": [
    "print(\"Respuesta P4\")\n",
    "tiempo_promedio = round(atencion/cantidad_total,2)\n",
    "print(\"El tiempo de atencion promedio fue:\",tiempo_promedio,\"segundos\")"
   ]
  },
  {
   "cell_type": "code",
   "execution_count": 28,
   "metadata": {},
   "outputs": [
    {
     "name": "stdout",
     "output_type": "stream",
     "text": [
      "Respuesta P5\n",
      "Las ganancias de la cafeteria fueron 62472.0 y la rentabilidad de la misma es de 37483.2\n"
     ]
    }
   ],
   "source": [
    "print(\"Respuesta P5\")\n",
    "gasto_T = gasto_M_total+gasto_W_total\n",
    "rent = (gasto_T)*0.60\n",
    "print(\"Las ganancias de la cafeteria fueron\",gasto_T,\"y la rentabilidad de la misma es de\",rent)"
   ]
  },
  {
   "cell_type": "code",
   "execution_count": null,
   "metadata": {},
   "outputs": [],
   "source": []
  }
 ],
 "metadata": {
  "kernelspec": {
   "display_name": "Python 3",
   "language": "python",
   "name": "python3"
  },
  "language_info": {
   "codemirror_mode": {
    "name": "ipython",
    "version": 3
   },
   "file_extension": ".py",
   "mimetype": "text/x-python",
   "name": "python",
   "nbconvert_exporter": "python",
   "pygments_lexer": "ipython3",
   "version": "3.8.5"
  }
 },
 "nbformat": 4,
 "nbformat_minor": 4
}
